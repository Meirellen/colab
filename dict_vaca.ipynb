{
  "nbformat": 4,
  "nbformat_minor": 0,
  "metadata": {
    "colab": {
      "provenance": [],
      "authorship_tag": "ABX9TyP4rC2dKWcgmmT+4j7uONxp",
      "include_colab_link": true
    },
    "kernelspec": {
      "name": "python3",
      "display_name": "Python 3"
    },
    "language_info": {
      "name": "python"
    }
  },
  "cells": [
    {
      "cell_type": "markdown",
      "metadata": {
        "id": "view-in-github",
        "colab_type": "text"
      },
      "source": [
        "<a href=\"https://colab.research.google.com/github/Meirellen/colab/blob/main/dict_vaca.ipynb\" target=\"_parent\"><img src=\"https://colab.research.google.com/assets/colab-badge.svg\" alt=\"Open In Colab\"/></a>"
      ]
    },
    {
      "cell_type": "code",
      "execution_count": null,
      "metadata": {
        "id": "C6xaTkKsolf4"
      },
      "outputs": [],
      "source": [
        "vaca = {'nome':'buu', 'idade':29, 'churrasco':'false'}"
      ]
    },
    {
      "cell_type": "code",
      "source": [
        "vaca.get('churrasco')"
      ],
      "metadata": {
        "colab": {
          "base_uri": "https://localhost:8080/",
          "height": 35
        },
        "id": "Ndb9uhKZpFvo",
        "outputId": "d29da1e1-c182-48cd-b23d-df1a72f6e908"
      },
      "execution_count": null,
      "outputs": [
        {
          "output_type": "execute_result",
          "data": {
            "text/plain": [
              "'false'"
            ],
            "application/vnd.google.colaboratory.intrinsic+json": {
              "type": "string"
            }
          },
          "metadata": {},
          "execution_count": 8
        }
      ]
    },
    {
      "cell_type": "code",
      "source": [
        "def imprimi(objeto):\n",
        "  print(objeto)"
      ],
      "metadata": {
        "id": "QROiNz5Rqqgh"
      },
      "execution_count": 3,
      "outputs": []
    },
    {
      "cell_type": "code",
      "source": [
        "def animal(nome, idade, churrasco):\n",
        "  animal = {'nome':nome, 'idade':idade, 'churrasco':churrasco}\n",
        "  imprimi(animal)\n",
        "  return animal"
      ],
      "metadata": {
        "id": "5awF-HdVqFYC"
      },
      "execution_count": 4,
      "outputs": []
    },
    {
      "cell_type": "code",
      "source": [
        "a = animal('bb',9,'não')"
      ],
      "metadata": {
        "id": "GdBi1YyNrAUY",
        "outputId": "beb057ea-59ae-4fd2-bfbc-35b258c9d59c",
        "colab": {
          "base_uri": "https://localhost:8080/"
        }
      },
      "execution_count": 7,
      "outputs": [
        {
          "output_type": "stream",
          "name": "stdout",
          "text": [
            "{'nome': 'bb', 'idade': 9, 'churrasco': 'não'}\n"
          ]
        }
      ]
    },
    {
      "cell_type": "code",
      "source": [
        "a"
      ],
      "metadata": {
        "id": "jbyupNZsrTRR",
        "outputId": "8d80553a-6506-48aa-82d5-27b27b8aa5ec",
        "colab": {
          "base_uri": "https://localhost:8080/"
        }
      },
      "execution_count": 8,
      "outputs": [
        {
          "output_type": "execute_result",
          "data": {
            "text/plain": [
              "{'nome': 'bb', 'idade': 9, 'churrasco': 'não'}"
            ]
          },
          "metadata": {},
          "execution_count": 8
        }
      ]
    }
  ]
}